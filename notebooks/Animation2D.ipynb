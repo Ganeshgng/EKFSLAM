{
 "cells": [
  {
   "cell_type": "code",
   "execution_count": 4,
   "metadata": {},
   "outputs": [
    {
     "name": "stderr",
     "output_type": "stream",
     "text": [
      "WARNING: replacing module SlamTutorial.\n",
      "WARNING: ignoring conflicting import of SlamTutorial.make_canvas into Main\n",
      "WARNING: ignoring conflicting import of SlamTutorial.make_animation into Main\n",
      "WARNING: ignoring conflicting import of SlamTutorial.belief_init into Main\n",
      "WARNING: ignoring conflicting import of SlamTutorial.RangeBearing into Main\n"
     ]
    },
    {
     "ename": "UndefVarError",
     "evalue": "UndefVarError: draw_kalman_state not defined",
     "output_type": "error",
     "traceback": [
      "UndefVarError: draw_kalman_state not defined",
      "",
      "Stacktrace:",
      " [1] top-level scope at In[4]:5"
     ]
    }
   ],
   "source": [
    "include(\"../src/SlamTutorial.jl\")\n",
    "import .SlamTutorial: \n",
    "    make_canvas, make_animation, \n",
    "    belief_init, RangeBearing\n",
    "    draw_kalman_state, animate_kalman_state,\n",
    "    example2d_landmarks"
   ]
  },
  {
   "cell_type": "markdown",
   "metadata": {},
   "source": [
    "## Animate a 2d robot"
   ]
  },
  {
   "cell_type": "code",
   "execution_count": 3,
   "metadata": {},
   "outputs": [
    {
     "ename": "UndefVarError",
     "evalue": "UndefVarError: draw_kalman_state not defined",
     "output_type": "error",
     "traceback": [
      "UndefVarError: draw_kalman_state not defined",
      "",
      "Stacktrace:",
      " [1] animate_kalman_state(::Array{Main.SlamTutorial.Belief,1}, ::Array{Array{RangeBearing,1},1}, ::Array{Int64,2}) at ./In[3]:5",
      " [2] top-level scope at In[3]:21"
     ]
    }
   ],
   "source": [
    "function animate_kalman_state(believes, range_bearingss, landmarks)\n",
    "    fig, ax = make_canvas(-1, -1, 12, 12)\n",
    "    frames = []\n",
    "    for t in 1:2\n",
    "        frame = draw_kalman_state(ax, believes[t], range_bearingss[t], landmarks)\n",
    "        \n",
    "        push!(frames, frame)\n",
    "    end\n",
    "    return make_animation(fig, frames, interval=1000, repeat_delay=1000)\n",
    "end\n",
    "\n",
    "landmarks = [5 5; 3 4]\n",
    "num_landmarks = size(landmarks, 1)\n",
    "belief = belief_init(num_landmarks)\n",
    "\n",
    "range_bearings = [RangeBearing(1, 0, 0)]\n",
    "\n",
    "belief.covariance[1:2, 1:2] = [1 0.5; 0.5 2]\n",
    "belief.mean[4:5] = [1, 1]\n",
    "belief.covariance[4:5, 4:5] = [0.2 0.1; 0.1 0.5]\n",
    "\n",
    "\n",
    "HTML(animate_kalman_state([belief, belief], [range_bearings, range_bearings], landmarks).to_jshtml())"
   ]
  }
 ],
 "metadata": {
  "@webio": {
   "lastCommId": null,
   "lastKernelId": null
  },
  "kernelspec": {
   "display_name": "julia 1.1.1",
   "language": "julia",
   "name": "julia-1.1"
  },
  "language_info": {
   "file_extension": ".jl",
   "mimetype": "application/julia",
   "name": "julia",
   "version": "1.1.1"
  }
 },
 "nbformat": 4,
 "nbformat_minor": 2
}
